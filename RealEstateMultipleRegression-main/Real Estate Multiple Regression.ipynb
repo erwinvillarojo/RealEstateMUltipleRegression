{
 "cells": [
  {
   "cell_type": "code",
   "execution_count": 1,
   "metadata": {},
   "outputs": [],
   "source": [
    "import numpy as np\n",
    "import pandas as pd\n",
    "import seaborn as sns\n",
    "from scipy import stats\n",
    "import matplotlib.pyplot as plt\n",
    "\n",
    "import statsmodels.api as sm\n",
    "from statsmodels.stats import diagnostic as diag\n",
    "from statsmodels.stats.outliers_influence import variance_inflation_factor\n",
    "\n",
    "# Import label encoder \n",
    "from sklearn import preprocessing \n",
    "\n",
    "# Models\n",
    "from sklearn.linear_model import LinearRegression\n",
    "from sklearn.ensemble import RandomForestRegressor\n",
    "from sklearn.tree import DecisionTreeRegressor\n",
    "from sklearn.tree import DecisionTreeClassifier\n",
    "from sklearn.cluster import KMeans\n",
    "from sklearn.tree import export_graphviz\n",
    "\n",
    "from sklearn import metrics\n",
    "from sklearn.model_selection import train_test_split\n",
    "from sklearn.metrics import mean_squared_error, r2_score, mean_absolute_error\n",
    "\n",
    "import pylab\n",
    "import math\n",
    "import cv2\n",
    "\n",
    "%matplotlib inline"
   ]
  },
  {
   "cell_type": "code",
   "execution_count": 2,
   "metadata": {},
   "outputs": [],
   "source": [
    "def readyTheDataset():\n",
    "    data = pd.read_csv(\"Dataset.csv\", encoding='cp1252')\n",
    "    data.columns = ['name', 'carspaces', 'bedrooms', 'bathrooms', 'floorarea', 'landsize', 'waterfront', 'location', 'price']\n",
    "    \n",
    "    display(data)\n",
    "    \n",
    "    return data"
   ]
  },
  {
   "cell_type": "code",
   "execution_count": 3,
   "metadata": {},
   "outputs": [],
   "source": [
    "def findDuplicates(data):\n",
    "    duplicates = data[data['name'].duplicated() == True]\n",
    "    if(len(duplicates)):\n",
    "        print('There are ', len(duplicates), ' duplicates in the dataset.')\n",
    "    else:\n",
    "        print('There are no duplicates in the dataset.')\n",
    "    \n",
    "def removeDuplicates(data):\n",
    "    data.drop_duplicates(subset = [\"name\"], keep = 'first', inplace = True) \n",
    "    \n",
    "    return data"
   ]
  },
  {
   "cell_type": "code",
   "execution_count": 4,
   "metadata": {},
   "outputs": [],
   "source": [
    "def displayList(list, string):\n",
    "    list.sort()\n",
    "    print('There are total of ', len(list), ' provinces listed in the data.')\n",
    "    \n",
    "    list=pd.DataFrame(list, columns=[string]) \n",
    "    display(list)"
   ]
  },
  {
   "cell_type": "code",
   "execution_count": 5,
   "metadata": {},
   "outputs": [],
   "source": [
    "def labelEncode(data, string):\n",
    "    label_encoder = preprocessing.LabelEncoder() \n",
    "    \n",
    "    data[string]= label_encoder.fit_transform(data[string]) \n",
    "    return data"
   ]
  },
  {
   "cell_type": "code",
   "execution_count": 6,
   "metadata": {},
   "outputs": [],
   "source": [
    "def displayHeatMap(data):\n",
    "    # calculate the correlation matrix\n",
    "    data = data.astype(float)\n",
    "    corr = data.corr()\n",
    "    sns.heatmap(corr, xticklabels=corr.columns, yticklabels=corr.columns, annot=True, cmap='RdBu')\n",
    "    \n",
    "    return data"
   ]
  },
  {
   "cell_type": "code",
   "execution_count": 7,
   "metadata": {},
   "outputs": [],
   "source": [
    "def displayVFI(data):\n",
    "    # the VFI does expect a constant term in the data, so we need to add one using the add_constant method\n",
    "    X1 = sm.tools.add_constant(data)\n",
    "\n",
    "    # create the series for both\n",
    "    series_before = pd.Series([variance_inflation_factor(X1.values, i) for i in range(X1.shape[1])], index=X1.columns)\n",
    "\n",
    "    # display the series\n",
    "    print('Current VFI')\n",
    "    display(series_before)"
   ]
  },
  {
   "cell_type": "code",
   "execution_count": 8,
   "metadata": {},
   "outputs": [],
   "source": [
    "def displayBoxPlot():\n",
    "    fig, ((ax1, ax2, ax3, ax4),(ax5, ax6, ax7, ax8)) = plt.subplots(nrows= 2, ncols = 4, figsize = (24,13))\n",
    "    sns.boxplot(ax = ax1, y = 'carspaces', data = data, color = 'limegreen')\n",
    "    sns.boxplot(ax = ax2, y = 'bedrooms', data = data, color = 'pink')\n",
    "    sns.boxplot(ax = ax3, y = 'bathrooms', data = data, color = 'limegreen')\n",
    "    sns.boxplot(ax = ax4, y = 'floorarea', data = data, color = 'pink')\n",
    "    sns.boxplot(ax = ax5, y = 'landsize', data = data, color = 'limegreen')\n",
    "    sns.boxplot(ax = ax6, y = 'waterfront', data = data, color = 'pink')\n",
    "    sns.boxplot(ax = ax7, y = 'location', data = data, color = 'limegreen')\n",
    "    sns.boxplot(ax = ax8, y = 'price', data = data, color = 'pink')"
   ]
  },
  {
   "cell_type": "code",
   "execution_count": 9,
   "metadata": {},
   "outputs": [],
   "source": [
    "def removeOutliers(data):\n",
    "    # filter the data frame to remove the values exceeding 3 standard deviations\n",
    "    remove_df = data[(np.abs(stats.zscore(data)) < 3).all(axis=1)]\n",
    "\n",
    "    # what rows were removed\n",
    "    data.index.difference(remove_df.index)\n",
    "    print(\"Number of outliers found: \", len(data)-len(remove_df))\n",
    "    display(remove_df)\n",
    "    return remove_df"
   ]
  },
  {
   "cell_type": "code",
   "execution_count": 10,
   "metadata": {},
   "outputs": [],
   "source": [
    "def displayDescribe(data):\n",
    "    # get the summary\n",
    "    desc_df = data.describe()\n",
    "\n",
    "    # add the standard deviation metric\n",
    "    desc_df.loc['+3_std'] = desc_df.loc['mean'] + (desc_df.loc['std'] * 3)\n",
    "    desc_df.loc['-3_std'] = desc_df.loc['mean'] - (desc_df.loc['std'] * 3)\n",
    "\n",
    "    # display the summary\n",
    "    display(desc_df)"
   ]
  },
  {
   "cell_type": "code",
   "execution_count": 11,
   "metadata": {},
   "outputs": [],
   "source": [
    "def getScore(modelName, model):\n",
    "    print(modelName)\n",
    "    print(\"Train R-Squared: \", model.score(X_train, Y_train))\n",
    "    print(\"Test R-Squared: \", model.score(X_test, Y_test))\n",
    "    print()"
   ]
  },
  {
   "cell_type": "code",
   "execution_count": 12,
   "metadata": {},
   "outputs": [],
   "source": [
    "def getErrors(modelName, pred):\n",
    "#     model_pred = \n",
    "    print(modelName)\n",
    "    e = mean_squared_error(pred, Y_test)\n",
    "    print(\"Mean Squared Error (MSE): \", e)\n",
    "    print(\"Mean Absolute Error (MAE): \", mean_absolute_error(pred, Y_test))\n",
    "    print(\"Root Mean Squared Error (RMSE): \", math.sqrt(e))\n",
    "    print()"
   ]
  },
  {
   "cell_type": "code",
   "execution_count": 13,
   "metadata": {},
   "outputs": [],
   "source": [
    "def getInterceptCoeff(model):\n",
    "    # let's grab the coefficient of our model and the intercept for Linear Regression Model\n",
    "    print(\"\\n The intercept for our model is {:.4}\".format(model.intercept_))\n",
    "    # print('-'*100)\n",
    "\n",
    "    coeff_df = pd.DataFrame(model.coef_, X.columns, columns=['Coefficients'])\n",
    "    display(coeff_df)"
   ]
  },
  {
   "cell_type": "code",
   "execution_count": 14,
   "metadata": {},
   "outputs": [],
   "source": [
    "def checkHeterosecdasticity(est):\n",
    "    # Run the Breusch-Pagan test\n",
    "    _, pval, __, f_pval = diag.het_breuschpagan(est.resid, est.model.exog)\n",
    "    print(pval, f_pval)\n",
    "    print('-'*100)\n",
    "\n",
    "    # print the results of the test\n",
    "    if pval > 0.05:\n",
    "        print(\"For the Breusch-Pagan's Test\")\n",
    "        print(\"The p-value was {:.4}\".format(pval))\n",
    "        print(\"We fail to reject the null hypothesis, so there is no heterosecdasticity.\")\n",
    "\n",
    "    else:\n",
    "        print(\"For the Breusch-Pagan's Test\")\n",
    "        print(\"The p-value was {:.4}\".format(pval))\n",
    "        print(\"We reject the null hypothesis, so there is heterosecdasticity.\")"
   ]
  },
  {
   "cell_type": "code",
   "execution_count": 15,
   "metadata": {
    "scrolled": true
   },
   "outputs": [],
   "source": [
    "def checkAutocorr(est, X):\n",
    "    # calculate the lag, optional\n",
    "    lag = min(10, (len(X)//5))\n",
    "    print('The number of lags will be {}'.format(lag))\n",
    "    print('-'*100)\n",
    "\n",
    "    # run the Ljung-Box test for no autocorrelation of residuals\n",
    "    test_results = diag.acorr_ljungbox(est.resid, lags = lag)\n",
    "\n",
    "    # grab the p-values and the test statistics\n",
    "    ibvalue, p_val = test_results\n",
    "\n",
    "    # print the results of the test\n",
    "    if min(p_val) > 0.05:\n",
    "        print(\"The lowest p-value found was {:.4}\".format(min(p_val)))\n",
    "        print(\"We fail to reject the null hypothesis, so there is no autocorrelation.\")\n",
    "        print('-'*100)\n",
    "    else:\n",
    "        print(\"The lowest p-value found was {:.4}\".format(min(p_val)))\n",
    "        print(\"We reject the null hypothesis, so there is autocorrelation.\")\n",
    "        print('-'*100)\n",
    "\n",
    "    # plot autocorrelation\n",
    "    sm.graphics.tsa.plot_acf(est.resid)\n",
    "    plt.show()"
   ]
  },
  {
   "cell_type": "code",
   "execution_count": 16,
   "metadata": {},
   "outputs": [],
   "source": [
    "def getPredict(model, X_test):\n",
    "    # Get multiple predictions\n",
    "    y_predict = model.predict(X_test) \n",
    "\n",
    "    # Show the first 5 predictions\n",
    "    print(\"Price for the first 5 predictions: \")\n",
    "    for price in y_predict[:5]:\n",
    "        print(price)"
   ]
  },
  {
   "cell_type": "code",
   "execution_count": 17,
   "metadata": {},
   "outputs": [],
   "source": [
    "def getDecisionTree(model, names):\n",
    "    export_graphviz(model, 'tree.dot', feature_names = list(data)[0:7], max_depth = 3)\n",
    "    \n",
    "    ! dot -Tpng tree.dot -o tree.png\n",
    "    \n",
    "    img = cv2.imread('tree.png')\n",
    "    plt.figure(figsize = (20, 20))\n",
    "    plt.imshow(img)\n",
    "    \n",
    "# getDecisionTree(modelDT, list(data)[0:7])"
   ]
  },
  {
   "cell_type": "markdown",
   "metadata": {},
   "source": [
    "## House For Sale in Cebu Province\n",
    "\n",
    "The population of Cebu Province was 2,619,362 by 2010 at it increased by 2.22% by 2015 with the population of 2,938,982, there are about 300,000 increase in population and more people would look for houses in Cebu Province. Because of these, the prices of house sales also greatly increase, but people don’t know the factors why the house sale prices vary from different houses.\n",
    "\n",
    "With that, the researchers aim to identify the factors of house sale price, we gathered data from Lumidi.com.ph where Real Estate Agents can post their For Sale House with its amenities and such. The researchers were able to gather a total of 404 observations with 9 variables which can be seen below with their respective description, data type and values.\n",
    "\n",
    "|Variable Name||Description||Data Type||Values|\n",
    "|:-:||:-:||:-:||:-:|\n",
    "|name||The name of post in the webpage||String||Unique Values|\n",
    "|carspaces||Number of available car space or garage||asd||0 ... 8|\n",
    "|bedrooms||Number of bedroom in a||asd||asd|\n",
    "|bathrooms||asd||asd||asd|\n",
    "|floorarea||asd||asd||asd|\n",
    "|landsize||asd||asd||asd|\n",
    "|waterfront||asd||asd||asd|\n",
    "|location||asd||asd||asd|\n",
    "|price||asd||asd||asd|\n"
   ]
  },
  {
   "cell_type": "code",
   "execution_count": 18,
   "metadata": {},
   "outputs": [
    {
     "data": {
      "text/html": [
       "<div>\n",
       "<style scoped>\n",
       "    .dataframe tbody tr th:only-of-type {\n",
       "        vertical-align: middle;\n",
       "    }\n",
       "\n",
       "    .dataframe tbody tr th {\n",
       "        vertical-align: top;\n",
       "    }\n",
       "\n",
       "    .dataframe thead th {\n",
       "        text-align: right;\n",
       "    }\n",
       "</style>\n",
       "<table border=\"1\" class=\"dataframe\">\n",
       "  <thead>\n",
       "    <tr style=\"text-align: right;\">\n",
       "      <th></th>\n",
       "      <th>name</th>\n",
       "      <th>carspaces</th>\n",
       "      <th>bedrooms</th>\n",
       "      <th>bathrooms</th>\n",
       "      <th>floorarea</th>\n",
       "      <th>landsize</th>\n",
       "      <th>waterfront</th>\n",
       "      <th>location</th>\n",
       "      <th>price</th>\n",
       "    </tr>\n",
       "  </thead>\n",
       "  <tbody>\n",
       "    <tr>\n",
       "      <th>0</th>\n",
       "      <td>Bungalow House &amp; Lot for sale in Lapu-Lapu Cit...</td>\n",
       "      <td>2.0</td>\n",
       "      <td>2.0</td>\n",
       "      <td>3.0</td>\n",
       "      <td>150.0</td>\n",
       "      <td>173.0</td>\n",
       "      <td>1.0</td>\n",
       "      <td>Lapu-Lapu</td>\n",
       "      <td>3800000.0</td>\n",
       "    </tr>\n",
       "    <tr>\n",
       "      <th>1</th>\n",
       "      <td>Ready for occupancy single detached Beach house</td>\n",
       "      <td>1.0</td>\n",
       "      <td>3.0</td>\n",
       "      <td>2.0</td>\n",
       "      <td>80.0</td>\n",
       "      <td>291.0</td>\n",
       "      <td>1.0</td>\n",
       "      <td>Argao</td>\n",
       "      <td>7078000.0</td>\n",
       "    </tr>\n",
       "    <tr>\n",
       "      <th>2</th>\n",
       "      <td>Two Storey House Villa with Pool - Camotes Isl...</td>\n",
       "      <td>5.0</td>\n",
       "      <td>3.0</td>\n",
       "      <td>2.0</td>\n",
       "      <td>385.4</td>\n",
       "      <td>1500.0</td>\n",
       "      <td>1.0</td>\n",
       "      <td>Camotes Island</td>\n",
       "      <td>11900000.0</td>\n",
       "    </tr>\n",
       "    <tr>\n",
       "      <th>3</th>\n",
       "      <td>A Luxury 5-Bedroom Resort-Style Home</td>\n",
       "      <td>4.0</td>\n",
       "      <td>5.0</td>\n",
       "      <td>5.0</td>\n",
       "      <td>360.0</td>\n",
       "      <td>462.0</td>\n",
       "      <td>0.0</td>\n",
       "      <td>Lapu-Lapu</td>\n",
       "      <td>52000000.0</td>\n",
       "    </tr>\n",
       "    <tr>\n",
       "      <th>4</th>\n",
       "      <td>Townhouse for Sale in Banilad, Mandaue City</td>\n",
       "      <td>1.0</td>\n",
       "      <td>4.0</td>\n",
       "      <td>3.0</td>\n",
       "      <td>103.0</td>\n",
       "      <td>60.0</td>\n",
       "      <td>0.0</td>\n",
       "      <td>Mandaue</td>\n",
       "      <td>10500000.0</td>\n",
       "    </tr>\n",
       "    <tr>\n",
       "      <th>...</th>\n",
       "      <td>...</td>\n",
       "      <td>...</td>\n",
       "      <td>...</td>\n",
       "      <td>...</td>\n",
       "      <td>...</td>\n",
       "      <td>...</td>\n",
       "      <td>...</td>\n",
       "      <td>...</td>\n",
       "      <td>...</td>\n",
       "    </tr>\n",
       "    <tr>\n",
       "      <th>398</th>\n",
       "      <td>Two storey House and Lot for sale in tulay, mi...</td>\n",
       "      <td>1.0</td>\n",
       "      <td>4.0</td>\n",
       "      <td>3.0</td>\n",
       "      <td>284.0</td>\n",
       "      <td>103.0</td>\n",
       "      <td>1.0</td>\n",
       "      <td>Minglanilla</td>\n",
       "      <td>5242410.0</td>\n",
       "    </tr>\n",
       "    <tr>\n",
       "      <th>399</th>\n",
       "      <td>1BEDROOM for sale in can-asujan carcar cebu at...</td>\n",
       "      <td>1.0</td>\n",
       "      <td>1.0</td>\n",
       "      <td>1.0</td>\n",
       "      <td>25.0</td>\n",
       "      <td>35.0</td>\n",
       "      <td>1.0</td>\n",
       "      <td>Carcar</td>\n",
       "      <td>NaN</td>\n",
       "    </tr>\n",
       "    <tr>\n",
       "      <th>400</th>\n",
       "      <td>Beautiful Corner Unit Duplex inside a pocket s...</td>\n",
       "      <td>1.0</td>\n",
       "      <td>4.0</td>\n",
       "      <td>2.0</td>\n",
       "      <td>114.0</td>\n",
       "      <td>72.0</td>\n",
       "      <td>1.0</td>\n",
       "      <td>Cebu</td>\n",
       "      <td>5500000.0</td>\n",
       "    </tr>\n",
       "    <tr>\n",
       "      <th>401</th>\n",
       "      <td>2bedroom 2 storey townhouse for sale in dapdap...</td>\n",
       "      <td>1.0</td>\n",
       "      <td>2.0</td>\n",
       "      <td>2.0</td>\n",
       "      <td>36.0</td>\n",
       "      <td>42.0</td>\n",
       "      <td>1.0</td>\n",
       "      <td>Carcar</td>\n",
       "      <td>1350000.0</td>\n",
       "    </tr>\n",
       "    <tr>\n",
       "      <th>402</th>\n",
       "      <td>Well Maintained Fully Furnish Home in Labangon...</td>\n",
       "      <td>3.0</td>\n",
       "      <td>4.0</td>\n",
       "      <td>4.0</td>\n",
       "      <td>376.0</td>\n",
       "      <td>237.0</td>\n",
       "      <td>0.0</td>\n",
       "      <td>Cebu</td>\n",
       "      <td>28000000.0</td>\n",
       "    </tr>\n",
       "  </tbody>\n",
       "</table>\n",
       "<p>403 rows × 9 columns</p>\n",
       "</div>"
      ],
      "text/plain": [
       "                                                  name  carspaces  bedrooms  \\\n",
       "0    Bungalow House & Lot for sale in Lapu-Lapu Cit...        2.0       2.0   \n",
       "1      Ready for occupancy single detached Beach house        1.0       3.0   \n",
       "2    Two Storey House Villa with Pool - Camotes Isl...        5.0       3.0   \n",
       "3                 A Luxury 5-Bedroom Resort-Style Home        4.0       5.0   \n",
       "4          Townhouse for Sale in Banilad, Mandaue City        1.0       4.0   \n",
       "..                                                 ...        ...       ...   \n",
       "398  Two storey House and Lot for sale in tulay, mi...        1.0       4.0   \n",
       "399  1BEDROOM for sale in can-asujan carcar cebu at...        1.0       1.0   \n",
       "400  Beautiful Corner Unit Duplex inside a pocket s...        1.0       4.0   \n",
       "401  2bedroom 2 storey townhouse for sale in dapdap...        1.0       2.0   \n",
       "402  Well Maintained Fully Furnish Home in Labangon...        3.0       4.0   \n",
       "\n",
       "     bathrooms  floorarea  landsize  waterfront        location       price  \n",
       "0          3.0      150.0     173.0         1.0       Lapu-Lapu   3800000.0  \n",
       "1          2.0       80.0     291.0         1.0           Argao   7078000.0  \n",
       "2          2.0      385.4    1500.0         1.0  Camotes Island  11900000.0  \n",
       "3          5.0      360.0     462.0         0.0       Lapu-Lapu  52000000.0  \n",
       "4          3.0      103.0      60.0         0.0         Mandaue  10500000.0  \n",
       "..         ...        ...       ...         ...             ...         ...  \n",
       "398        3.0      284.0     103.0         1.0     Minglanilla   5242410.0  \n",
       "399        1.0       25.0      35.0         1.0          Carcar         NaN  \n",
       "400        2.0      114.0      72.0         1.0            Cebu   5500000.0  \n",
       "401        2.0       36.0      42.0         1.0          Carcar   1350000.0  \n",
       "402        4.0      376.0     237.0         0.0            Cebu  28000000.0  \n",
       "\n",
       "[403 rows x 9 columns]"
      ]
     },
     "metadata": {},
     "output_type": "display_data"
    }
   ],
   "source": [
    "data = readyTheDataset()"
   ]
  },
  {
   "cell_type": "code",
   "execution_count": 19,
   "metadata": {},
   "outputs": [
    {
     "name": "stdout",
     "output_type": "stream",
     "text": [
      "0.0\n",
      "8.0\n"
     ]
    }
   ],
   "source": [
    "minimum = min(data['carspaces'])\n",
    "maximum = max(data['carspaces'])\n",
    "\n",
    "print(minimum)\n",
    "print(maximum)"
   ]
  },
  {
   "cell_type": "code",
   "execution_count": 20,
   "metadata": {},
   "outputs": [
    {
     "name": "stdout",
     "output_type": "stream",
     "text": [
      "There are  30  duplicates in the dataset.\n",
      "There are no duplicates in the dataset.\n"
     ]
    },
    {
     "data": {
      "text/html": [
       "<div>\n",
       "<style scoped>\n",
       "    .dataframe tbody tr th:only-of-type {\n",
       "        vertical-align: middle;\n",
       "    }\n",
       "\n",
       "    .dataframe tbody tr th {\n",
       "        vertical-align: top;\n",
       "    }\n",
       "\n",
       "    .dataframe thead th {\n",
       "        text-align: right;\n",
       "    }\n",
       "</style>\n",
       "<table border=\"1\" class=\"dataframe\">\n",
       "  <thead>\n",
       "    <tr style=\"text-align: right;\">\n",
       "      <th></th>\n",
       "      <th>name</th>\n",
       "      <th>carspaces</th>\n",
       "      <th>bedrooms</th>\n",
       "      <th>bathrooms</th>\n",
       "      <th>floorarea</th>\n",
       "      <th>landsize</th>\n",
       "      <th>waterfront</th>\n",
       "      <th>location</th>\n",
       "      <th>price</th>\n",
       "    </tr>\n",
       "  </thead>\n",
       "  <tbody>\n",
       "    <tr>\n",
       "      <th>0</th>\n",
       "      <td>Bungalow House &amp; Lot for sale in Lapu-Lapu Cit...</td>\n",
       "      <td>2.0</td>\n",
       "      <td>2.0</td>\n",
       "      <td>3.0</td>\n",
       "      <td>150.0</td>\n",
       "      <td>173.0</td>\n",
       "      <td>1.0</td>\n",
       "      <td>Lapu-Lapu</td>\n",
       "      <td>3800000.0</td>\n",
       "    </tr>\n",
       "    <tr>\n",
       "      <th>1</th>\n",
       "      <td>Ready for occupancy single detached Beach house</td>\n",
       "      <td>1.0</td>\n",
       "      <td>3.0</td>\n",
       "      <td>2.0</td>\n",
       "      <td>80.0</td>\n",
       "      <td>291.0</td>\n",
       "      <td>1.0</td>\n",
       "      <td>Argao</td>\n",
       "      <td>7078000.0</td>\n",
       "    </tr>\n",
       "    <tr>\n",
       "      <th>2</th>\n",
       "      <td>Two Storey House Villa with Pool - Camotes Isl...</td>\n",
       "      <td>5.0</td>\n",
       "      <td>3.0</td>\n",
       "      <td>2.0</td>\n",
       "      <td>385.4</td>\n",
       "      <td>1500.0</td>\n",
       "      <td>1.0</td>\n",
       "      <td>Camotes Island</td>\n",
       "      <td>11900000.0</td>\n",
       "    </tr>\n",
       "    <tr>\n",
       "      <th>3</th>\n",
       "      <td>A Luxury 5-Bedroom Resort-Style Home</td>\n",
       "      <td>4.0</td>\n",
       "      <td>5.0</td>\n",
       "      <td>5.0</td>\n",
       "      <td>360.0</td>\n",
       "      <td>462.0</td>\n",
       "      <td>0.0</td>\n",
       "      <td>Lapu-Lapu</td>\n",
       "      <td>52000000.0</td>\n",
       "    </tr>\n",
       "    <tr>\n",
       "      <th>4</th>\n",
       "      <td>Townhouse for Sale in Banilad, Mandaue City</td>\n",
       "      <td>1.0</td>\n",
       "      <td>4.0</td>\n",
       "      <td>3.0</td>\n",
       "      <td>103.0</td>\n",
       "      <td>60.0</td>\n",
       "      <td>0.0</td>\n",
       "      <td>Mandaue</td>\n",
       "      <td>10500000.0</td>\n",
       "    </tr>\n",
       "    <tr>\n",
       "      <th>...</th>\n",
       "      <td>...</td>\n",
       "      <td>...</td>\n",
       "      <td>...</td>\n",
       "      <td>...</td>\n",
       "      <td>...</td>\n",
       "      <td>...</td>\n",
       "      <td>...</td>\n",
       "      <td>...</td>\n",
       "      <td>...</td>\n",
       "    </tr>\n",
       "    <tr>\n",
       "      <th>398</th>\n",
       "      <td>Two storey House and Lot for sale in tulay, mi...</td>\n",
       "      <td>1.0</td>\n",
       "      <td>4.0</td>\n",
       "      <td>3.0</td>\n",
       "      <td>284.0</td>\n",
       "      <td>103.0</td>\n",
       "      <td>1.0</td>\n",
       "      <td>Minglanilla</td>\n",
       "      <td>5242410.0</td>\n",
       "    </tr>\n",
       "    <tr>\n",
       "      <th>399</th>\n",
       "      <td>1BEDROOM for sale in can-asujan carcar cebu at...</td>\n",
       "      <td>1.0</td>\n",
       "      <td>1.0</td>\n",
       "      <td>1.0</td>\n",
       "      <td>25.0</td>\n",
       "      <td>35.0</td>\n",
       "      <td>1.0</td>\n",
       "      <td>Carcar</td>\n",
       "      <td>NaN</td>\n",
       "    </tr>\n",
       "    <tr>\n",
       "      <th>400</th>\n",
       "      <td>Beautiful Corner Unit Duplex inside a pocket s...</td>\n",
       "      <td>1.0</td>\n",
       "      <td>4.0</td>\n",
       "      <td>2.0</td>\n",
       "      <td>114.0</td>\n",
       "      <td>72.0</td>\n",
       "      <td>1.0</td>\n",
       "      <td>Cebu</td>\n",
       "      <td>5500000.0</td>\n",
       "    </tr>\n",
       "    <tr>\n",
       "      <th>401</th>\n",
       "      <td>2bedroom 2 storey townhouse for sale in dapdap...</td>\n",
       "      <td>1.0</td>\n",
       "      <td>2.0</td>\n",
       "      <td>2.0</td>\n",
       "      <td>36.0</td>\n",
       "      <td>42.0</td>\n",
       "      <td>1.0</td>\n",
       "      <td>Carcar</td>\n",
       "      <td>1350000.0</td>\n",
       "    </tr>\n",
       "    <tr>\n",
       "      <th>402</th>\n",
       "      <td>Well Maintained Fully Furnish Home in Labangon...</td>\n",
       "      <td>3.0</td>\n",
       "      <td>4.0</td>\n",
       "      <td>4.0</td>\n",
       "      <td>376.0</td>\n",
       "      <td>237.0</td>\n",
       "      <td>0.0</td>\n",
       "      <td>Cebu</td>\n",
       "      <td>28000000.0</td>\n",
       "    </tr>\n",
       "  </tbody>\n",
       "</table>\n",
       "<p>373 rows × 9 columns</p>\n",
       "</div>"
      ],
      "text/plain": [
       "                                                  name  carspaces  bedrooms  \\\n",
       "0    Bungalow House & Lot for sale in Lapu-Lapu Cit...        2.0       2.0   \n",
       "1      Ready for occupancy single detached Beach house        1.0       3.0   \n",
       "2    Two Storey House Villa with Pool - Camotes Isl...        5.0       3.0   \n",
       "3                 A Luxury 5-Bedroom Resort-Style Home        4.0       5.0   \n",
       "4          Townhouse for Sale in Banilad, Mandaue City        1.0       4.0   \n",
       "..                                                 ...        ...       ...   \n",
       "398  Two storey House and Lot for sale in tulay, mi...        1.0       4.0   \n",
       "399  1BEDROOM for sale in can-asujan carcar cebu at...        1.0       1.0   \n",
       "400  Beautiful Corner Unit Duplex inside a pocket s...        1.0       4.0   \n",
       "401  2bedroom 2 storey townhouse for sale in dapdap...        1.0       2.0   \n",
       "402  Well Maintained Fully Furnish Home in Labangon...        3.0       4.0   \n",
       "\n",
       "     bathrooms  floorarea  landsize  waterfront        location       price  \n",
       "0          3.0      150.0     173.0         1.0       Lapu-Lapu   3800000.0  \n",
       "1          2.0       80.0     291.0         1.0           Argao   7078000.0  \n",
       "2          2.0      385.4    1500.0         1.0  Camotes Island  11900000.0  \n",
       "3          5.0      360.0     462.0         0.0       Lapu-Lapu  52000000.0  \n",
       "4          3.0      103.0      60.0         0.0         Mandaue  10500000.0  \n",
       "..         ...        ...       ...         ...             ...         ...  \n",
       "398        3.0      284.0     103.0         1.0     Minglanilla   5242410.0  \n",
       "399        1.0       25.0      35.0         1.0          Carcar         NaN  \n",
       "400        2.0      114.0      72.0         1.0            Cebu   5500000.0  \n",
       "401        2.0       36.0      42.0         1.0          Carcar   1350000.0  \n",
       "402        4.0      376.0     237.0         0.0            Cebu  28000000.0  \n",
       "\n",
       "[373 rows x 9 columns]"
      ]
     },
     "execution_count": 20,
     "metadata": {},
     "output_type": "execute_result"
    }
   ],
   "source": [
    "findDuplicates(data)\n",
    "data = removeDuplicates(data) # leaving 1 observation of each duplicates\n",
    "findDuplicates(data)\n",
    "data"
   ]
  },
  {
   "cell_type": "code",
   "execution_count": 21,
   "metadata": {},
   "outputs": [
    {
     "data": {
      "text/plain": [
       "name          False\n",
       "carspaces      True\n",
       "bedrooms       True\n",
       "bathrooms      True\n",
       "floorarea      True\n",
       "landsize       True\n",
       "waterfront     True\n",
       "location      False\n",
       "price          True\n",
       "dtype: bool"
      ]
     },
     "metadata": {},
     "output_type": "display_data"
    }
   ],
   "source": [
    "# check for null values\n",
    "display(data.isnull().any())"
   ]
  },
  {
   "cell_type": "code",
   "execution_count": 22,
   "metadata": {},
   "outputs": [
    {
     "data": {
      "text/plain": [
       "name          False\n",
       "carspaces     False\n",
       "bedrooms      False\n",
       "bathrooms     False\n",
       "floorarea     False\n",
       "landsize      False\n",
       "waterfront    False\n",
       "location      False\n",
       "price          True\n",
       "dtype: bool"
      ]
     },
     "metadata": {},
     "output_type": "display_data"
    }
   ],
   "source": [
    "# filling in the null values\n",
    "data[['carspaces']] = data[['carspaces']].fillna(data['carspaces'].mean())\n",
    "data[['bedrooms']] = data[['bedrooms']].fillna(data['bedrooms'].mean())\n",
    "data[['bathrooms']] = data[['bathrooms']].fillna(data['bathrooms'].mean())\n",
    "data[['floorarea']] = data[['floorarea']].fillna(data['floorarea'].mean())\n",
    "data[['landsize']] = data[['landsize']].fillna(data['landsize'].mean())\n",
    "data[['waterfront']] = data[['waterfront']].fillna('0')\n",
    "display(data.isnull().any())"
   ]
  },
  {
   "cell_type": "code",
   "execution_count": 23,
   "metadata": {},
   "outputs": [
    {
     "data": {
      "text/html": [
       "<div>\n",
       "<style scoped>\n",
       "    .dataframe tbody tr th:only-of-type {\n",
       "        vertical-align: middle;\n",
       "    }\n",
       "\n",
       "    .dataframe tbody tr th {\n",
       "        vertical-align: top;\n",
       "    }\n",
       "\n",
       "    .dataframe thead th {\n",
       "        text-align: right;\n",
       "    }\n",
       "</style>\n",
       "<table border=\"1\" class=\"dataframe\">\n",
       "  <thead>\n",
       "    <tr style=\"text-align: right;\">\n",
       "      <th></th>\n",
       "      <th>name</th>\n",
       "      <th>carspaces</th>\n",
       "      <th>bedrooms</th>\n",
       "      <th>bathrooms</th>\n",
       "      <th>floorarea</th>\n",
       "      <th>landsize</th>\n",
       "      <th>waterfront</th>\n",
       "      <th>location</th>\n",
       "      <th>price</th>\n",
       "    </tr>\n",
       "  </thead>\n",
       "  <tbody>\n",
       "    <tr>\n",
       "      <th>0</th>\n",
       "      <td>Bungalow House &amp; Lot for sale in Lapu-Lapu Cit...</td>\n",
       "      <td>2.0</td>\n",
       "      <td>2.0</td>\n",
       "      <td>3.0</td>\n",
       "      <td>150.0</td>\n",
       "      <td>173.0</td>\n",
       "      <td>1</td>\n",
       "      <td>Lapu-Lapu</td>\n",
       "      <td>3800000.0</td>\n",
       "    </tr>\n",
       "    <tr>\n",
       "      <th>1</th>\n",
       "      <td>Ready for occupancy single detached Beach house</td>\n",
       "      <td>1.0</td>\n",
       "      <td>3.0</td>\n",
       "      <td>2.0</td>\n",
       "      <td>80.0</td>\n",
       "      <td>291.0</td>\n",
       "      <td>1</td>\n",
       "      <td>Argao</td>\n",
       "      <td>7078000.0</td>\n",
       "    </tr>\n",
       "    <tr>\n",
       "      <th>2</th>\n",
       "      <td>Two Storey House Villa with Pool - Camotes Isl...</td>\n",
       "      <td>5.0</td>\n",
       "      <td>3.0</td>\n",
       "      <td>2.0</td>\n",
       "      <td>385.4</td>\n",
       "      <td>1500.0</td>\n",
       "      <td>1</td>\n",
       "      <td>Camotes Island</td>\n",
       "      <td>11900000.0</td>\n",
       "    </tr>\n",
       "    <tr>\n",
       "      <th>3</th>\n",
       "      <td>A Luxury 5-Bedroom Resort-Style Home</td>\n",
       "      <td>4.0</td>\n",
       "      <td>5.0</td>\n",
       "      <td>5.0</td>\n",
       "      <td>360.0</td>\n",
       "      <td>462.0</td>\n",
       "      <td>0</td>\n",
       "      <td>Lapu-Lapu</td>\n",
       "      <td>52000000.0</td>\n",
       "    </tr>\n",
       "    <tr>\n",
       "      <th>4</th>\n",
       "      <td>Townhouse for Sale in Banilad, Mandaue City</td>\n",
       "      <td>1.0</td>\n",
       "      <td>4.0</td>\n",
       "      <td>3.0</td>\n",
       "      <td>103.0</td>\n",
       "      <td>60.0</td>\n",
       "      <td>0</td>\n",
       "      <td>Mandaue</td>\n",
       "      <td>10500000.0</td>\n",
       "    </tr>\n",
       "    <tr>\n",
       "      <th>...</th>\n",
       "      <td>...</td>\n",
       "      <td>...</td>\n",
       "      <td>...</td>\n",
       "      <td>...</td>\n",
       "      <td>...</td>\n",
       "      <td>...</td>\n",
       "      <td>...</td>\n",
       "      <td>...</td>\n",
       "      <td>...</td>\n",
       "    </tr>\n",
       "    <tr>\n",
       "      <th>396</th>\n",
       "      <td>Ready for Occupancy Row House For Sale</td>\n",
       "      <td>1.0</td>\n",
       "      <td>1.0</td>\n",
       "      <td>1.0</td>\n",
       "      <td>26.0</td>\n",
       "      <td>48.0</td>\n",
       "      <td>0</td>\n",
       "      <td>Balamban</td>\n",
       "      <td>619682.0</td>\n",
       "    </tr>\n",
       "    <tr>\n",
       "      <th>398</th>\n",
       "      <td>Two storey House and Lot for sale in tulay, mi...</td>\n",
       "      <td>1.0</td>\n",
       "      <td>4.0</td>\n",
       "      <td>3.0</td>\n",
       "      <td>284.0</td>\n",
       "      <td>103.0</td>\n",
       "      <td>1</td>\n",
       "      <td>Minglanilla</td>\n",
       "      <td>5242410.0</td>\n",
       "    </tr>\n",
       "    <tr>\n",
       "      <th>400</th>\n",
       "      <td>Beautiful Corner Unit Duplex inside a pocket s...</td>\n",
       "      <td>1.0</td>\n",
       "      <td>4.0</td>\n",
       "      <td>2.0</td>\n",
       "      <td>114.0</td>\n",
       "      <td>72.0</td>\n",
       "      <td>1</td>\n",
       "      <td>Cebu</td>\n",
       "      <td>5500000.0</td>\n",
       "    </tr>\n",
       "    <tr>\n",
       "      <th>401</th>\n",
       "      <td>2bedroom 2 storey townhouse for sale in dapdap...</td>\n",
       "      <td>1.0</td>\n",
       "      <td>2.0</td>\n",
       "      <td>2.0</td>\n",
       "      <td>36.0</td>\n",
       "      <td>42.0</td>\n",
       "      <td>1</td>\n",
       "      <td>Carcar</td>\n",
       "      <td>1350000.0</td>\n",
       "    </tr>\n",
       "    <tr>\n",
       "      <th>402</th>\n",
       "      <td>Well Maintained Fully Furnish Home in Labangon...</td>\n",
       "      <td>3.0</td>\n",
       "      <td>4.0</td>\n",
       "      <td>4.0</td>\n",
       "      <td>376.0</td>\n",
       "      <td>237.0</td>\n",
       "      <td>0</td>\n",
       "      <td>Cebu</td>\n",
       "      <td>28000000.0</td>\n",
       "    </tr>\n",
       "  </tbody>\n",
       "</table>\n",
       "<p>364 rows × 9 columns</p>\n",
       "</div>"
      ],
      "text/plain": [
       "                                                  name  carspaces  bedrooms  \\\n",
       "0    Bungalow House & Lot for sale in Lapu-Lapu Cit...        2.0       2.0   \n",
       "1      Ready for occupancy single detached Beach house        1.0       3.0   \n",
       "2    Two Storey House Villa with Pool - Camotes Isl...        5.0       3.0   \n",
       "3                 A Luxury 5-Bedroom Resort-Style Home        4.0       5.0   \n",
       "4          Townhouse for Sale in Banilad, Mandaue City        1.0       4.0   \n",
       "..                                                 ...        ...       ...   \n",
       "396             Ready for Occupancy Row House For Sale        1.0       1.0   \n",
       "398  Two storey House and Lot for sale in tulay, mi...        1.0       4.0   \n",
       "400  Beautiful Corner Unit Duplex inside a pocket s...        1.0       4.0   \n",
       "401  2bedroom 2 storey townhouse for sale in dapdap...        1.0       2.0   \n",
       "402  Well Maintained Fully Furnish Home in Labangon...        3.0       4.0   \n",
       "\n",
       "     bathrooms  floorarea  landsize waterfront        location       price  \n",
       "0          3.0      150.0     173.0          1       Lapu-Lapu   3800000.0  \n",
       "1          2.0       80.0     291.0          1           Argao   7078000.0  \n",
       "2          2.0      385.4    1500.0          1  Camotes Island  11900000.0  \n",
       "3          5.0      360.0     462.0          0       Lapu-Lapu  52000000.0  \n",
       "4          3.0      103.0      60.0          0         Mandaue  10500000.0  \n",
       "..         ...        ...       ...        ...             ...         ...  \n",
       "396        1.0       26.0      48.0          0        Balamban    619682.0  \n",
       "398        3.0      284.0     103.0          1     Minglanilla   5242410.0  \n",
       "400        2.0      114.0      72.0          1            Cebu   5500000.0  \n",
       "401        2.0       36.0      42.0          1          Carcar   1350000.0  \n",
       "402        4.0      376.0     237.0          0            Cebu  28000000.0  \n",
       "\n",
       "[364 rows x 9 columns]"
      ]
     },
     "execution_count": 23,
     "metadata": {},
     "output_type": "execute_result"
    }
   ],
   "source": [
    "# now, the price has the only column that contains null values\n",
    "# we will be remove those rows with null prices since we are predicting the prices for house sales\n",
    "data.dropna(axis = 0, how = 'any', inplace = True)\n",
    "data"
   ]
  },
  {
   "cell_type": "code",
   "execution_count": 24,
   "metadata": {},
   "outputs": [
    {
     "data": {
      "text/html": [
       "<div>\n",
       "<style scoped>\n",
       "    .dataframe tbody tr th:only-of-type {\n",
       "        vertical-align: middle;\n",
       "    }\n",
       "\n",
       "    .dataframe tbody tr th {\n",
       "        vertical-align: top;\n",
       "    }\n",
       "\n",
       "    .dataframe thead th {\n",
       "        text-align: right;\n",
       "    }\n",
       "</style>\n",
       "<table border=\"1\" class=\"dataframe\">\n",
       "  <thead>\n",
       "    <tr style=\"text-align: right;\">\n",
       "      <th></th>\n",
       "      <th>carspaces</th>\n",
       "      <th>bedrooms</th>\n",
       "      <th>bathrooms</th>\n",
       "      <th>floorarea</th>\n",
       "      <th>landsize</th>\n",
       "      <th>waterfront</th>\n",
       "      <th>location</th>\n",
       "      <th>price</th>\n",
       "    </tr>\n",
       "  </thead>\n",
       "  <tbody>\n",
       "    <tr>\n",
       "      <th>0</th>\n",
       "      <td>2.0</td>\n",
       "      <td>2.0</td>\n",
       "      <td>3.0</td>\n",
       "      <td>150.0</td>\n",
       "      <td>173.0</td>\n",
       "      <td>1</td>\n",
       "      <td>Lapu-Lapu</td>\n",
       "      <td>3800000.0</td>\n",
       "    </tr>\n",
       "    <tr>\n",
       "      <th>1</th>\n",
       "      <td>1.0</td>\n",
       "      <td>3.0</td>\n",
       "      <td>2.0</td>\n",
       "      <td>80.0</td>\n",
       "      <td>291.0</td>\n",
       "      <td>1</td>\n",
       "      <td>Argao</td>\n",
       "      <td>7078000.0</td>\n",
       "    </tr>\n",
       "    <tr>\n",
       "      <th>2</th>\n",
       "      <td>5.0</td>\n",
       "      <td>3.0</td>\n",
       "      <td>2.0</td>\n",
       "      <td>385.4</td>\n",
       "      <td>1500.0</td>\n",
       "      <td>1</td>\n",
       "      <td>Camotes Island</td>\n",
       "      <td>11900000.0</td>\n",
       "    </tr>\n",
       "    <tr>\n",
       "      <th>3</th>\n",
       "      <td>4.0</td>\n",
       "      <td>5.0</td>\n",
       "      <td>5.0</td>\n",
       "      <td>360.0</td>\n",
       "      <td>462.0</td>\n",
       "      <td>0</td>\n",
       "      <td>Lapu-Lapu</td>\n",
       "      <td>52000000.0</td>\n",
       "    </tr>\n",
       "    <tr>\n",
       "      <th>4</th>\n",
       "      <td>1.0</td>\n",
       "      <td>4.0</td>\n",
       "      <td>3.0</td>\n",
       "      <td>103.0</td>\n",
       "      <td>60.0</td>\n",
       "      <td>0</td>\n",
       "      <td>Mandaue</td>\n",
       "      <td>10500000.0</td>\n",
       "    </tr>\n",
       "    <tr>\n",
       "      <th>...</th>\n",
       "      <td>...</td>\n",
       "      <td>...</td>\n",
       "      <td>...</td>\n",
       "      <td>...</td>\n",
       "      <td>...</td>\n",
       "      <td>...</td>\n",
       "      <td>...</td>\n",
       "      <td>...</td>\n",
       "    </tr>\n",
       "    <tr>\n",
       "      <th>396</th>\n",
       "      <td>1.0</td>\n",
       "      <td>1.0</td>\n",
       "      <td>1.0</td>\n",
       "      <td>26.0</td>\n",
       "      <td>48.0</td>\n",
       "      <td>0</td>\n",
       "      <td>Balamban</td>\n",
       "      <td>619682.0</td>\n",
       "    </tr>\n",
       "    <tr>\n",
       "      <th>398</th>\n",
       "      <td>1.0</td>\n",
       "      <td>4.0</td>\n",
       "      <td>3.0</td>\n",
       "      <td>284.0</td>\n",
       "      <td>103.0</td>\n",
       "      <td>1</td>\n",
       "      <td>Minglanilla</td>\n",
       "      <td>5242410.0</td>\n",
       "    </tr>\n",
       "    <tr>\n",
       "      <th>400</th>\n",
       "      <td>1.0</td>\n",
       "      <td>4.0</td>\n",
       "      <td>2.0</td>\n",
       "      <td>114.0</td>\n",
       "      <td>72.0</td>\n",
       "      <td>1</td>\n",
       "      <td>Cebu</td>\n",
       "      <td>5500000.0</td>\n",
       "    </tr>\n",
       "    <tr>\n",
       "      <th>401</th>\n",
       "      <td>1.0</td>\n",
       "      <td>2.0</td>\n",
       "      <td>2.0</td>\n",
       "      <td>36.0</td>\n",
       "      <td>42.0</td>\n",
       "      <td>1</td>\n",
       "      <td>Carcar</td>\n",
       "      <td>1350000.0</td>\n",
       "    </tr>\n",
       "    <tr>\n",
       "      <th>402</th>\n",
       "      <td>3.0</td>\n",
       "      <td>4.0</td>\n",
       "      <td>4.0</td>\n",
       "      <td>376.0</td>\n",
       "      <td>237.0</td>\n",
       "      <td>0</td>\n",
       "      <td>Cebu</td>\n",
       "      <td>28000000.0</td>\n",
       "    </tr>\n",
       "  </tbody>\n",
       "</table>\n",
       "<p>364 rows × 8 columns</p>\n",
       "</div>"
      ],
      "text/plain": [
       "     carspaces  bedrooms  bathrooms  floorarea  landsize waterfront  \\\n",
       "0          2.0       2.0        3.0      150.0     173.0          1   \n",
       "1          1.0       3.0        2.0       80.0     291.0          1   \n",
       "2          5.0       3.0        2.0      385.4    1500.0          1   \n",
       "3          4.0       5.0        5.0      360.0     462.0          0   \n",
       "4          1.0       4.0        3.0      103.0      60.0          0   \n",
       "..         ...       ...        ...        ...       ...        ...   \n",
       "396        1.0       1.0        1.0       26.0      48.0          0   \n",
       "398        1.0       4.0        3.0      284.0     103.0          1   \n",
       "400        1.0       4.0        2.0      114.0      72.0          1   \n",
       "401        1.0       2.0        2.0       36.0      42.0          1   \n",
       "402        3.0       4.0        4.0      376.0     237.0          0   \n",
       "\n",
       "           location       price  \n",
       "0         Lapu-Lapu   3800000.0  \n",
       "1             Argao   7078000.0  \n",
       "2    Camotes Island  11900000.0  \n",
       "3         Lapu-Lapu  52000000.0  \n",
       "4           Mandaue  10500000.0  \n",
       "..              ...         ...  \n",
       "396        Balamban    619682.0  \n",
       "398     Minglanilla   5242410.0  \n",
       "400            Cebu   5500000.0  \n",
       "401          Carcar   1350000.0  \n",
       "402            Cebu  28000000.0  \n",
       "\n",
       "[364 rows x 8 columns]"
      ]
     },
     "execution_count": 24,
     "metadata": {},
     "output_type": "execute_result"
    }
   ],
   "source": [
    "data.drop('name', axis = 1, inplace = True)\n",
    "data"
   ]
  },
  {
   "cell_type": "code",
   "execution_count": 25,
   "metadata": {},
   "outputs": [
    {
     "data": {
      "text/plain": [
       "array(['Lapu-Lapu', 'Argao', 'Camotes Island', 'Mandaue', 'Cebu',\n",
       "       'Consolacion', 'Bogo', 'Oslob', 'Talisay', 'Liloan', 'Medellin',\n",
       "       'Compostela', 'Minglanilla', 'Alcoy', 'Lapu-lapu', 'Cordova',\n",
       "       'Toledo', 'Talamban', 'Borbon', 'Bantayan', 'Santander', 'Badian',\n",
       "       'Banilad', 'Guadalupe', 'Naga', 'Lahug', 'Danao', 'Carcar',\n",
       "       'Catmon', 'Guadalupe, Cebu', 'Carmen', ' Carcar', 'Lapu-Lapu ',\n",
       "       'Lapu Lapu', 'San Remigio', 'Balamban'], dtype=object)"
      ]
     },
     "execution_count": 25,
     "metadata": {},
     "output_type": "execute_result"
    }
   ],
   "source": [
    "# identify if the location values are all provinces and not repeating \n",
    "location_list = data.location.unique()\n",
    "location_list"
   ]
  },
  {
   "cell_type": "code",
   "execution_count": 26,
   "metadata": {},
   "outputs": [],
   "source": [
    "# correct the typo location strings\n",
    "data.loc[data['location'].str.contains('Guadalupe'), 'location'] = 'Cebu'\n",
    "data.loc[data['location'].str.contains('Cordova'), 'location'] = 'Lapu-Lapu'\n",
    "data.loc[data['location'].str.contains('Camotes'), 'location'] = 'Camotes Island'\n",
    "data.loc[data['location'].str.contains('Bantayan'), 'location'] = 'Bantayan Island'\n",
    "data.loc[data['location'].str.contains('Carcar'), 'location'] = 'Carcar'\n",
    "data.loc[data['location'].str.contains('Banilad'), 'location'] = 'Cebu'\n",
    "data.loc[data['location'].str.contains('Lahug'), 'location'] = 'Cebu'\n",
    "data.loc[data['location'].str.contains('Lapu'), 'location'] = 'Lapu-Lapu'"
   ]
  },
  {
   "cell_type": "code",
   "execution_count": 27,
   "metadata": {},
   "outputs": [
    {
     "name": "stdout",
     "output_type": "stream",
     "text": [
      "There are total of  27  provinces listed in the data.\n"
     ]
    },
    {
     "data": {
      "text/html": [
       "<div>\n",
       "<style scoped>\n",
       "    .dataframe tbody tr th:only-of-type {\n",
       "        vertical-align: middle;\n",
       "    }\n",
       "\n",
       "    .dataframe tbody tr th {\n",
       "        vertical-align: top;\n",
       "    }\n",
       "\n",
       "    .dataframe thead th {\n",
       "        text-align: right;\n",
       "    }\n",
       "</style>\n",
       "<table border=\"1\" class=\"dataframe\">\n",
       "  <thead>\n",
       "    <tr style=\"text-align: right;\">\n",
       "      <th></th>\n",
       "      <th>location</th>\n",
       "    </tr>\n",
       "  </thead>\n",
       "  <tbody>\n",
       "    <tr>\n",
       "      <th>0</th>\n",
       "      <td>Alcoy</td>\n",
       "    </tr>\n",
       "    <tr>\n",
       "      <th>1</th>\n",
       "      <td>Argao</td>\n",
       "    </tr>\n",
       "    <tr>\n",
       "      <th>2</th>\n",
       "      <td>Badian</td>\n",
       "    </tr>\n",
       "    <tr>\n",
       "      <th>3</th>\n",
       "      <td>Balamban</td>\n",
       "    </tr>\n",
       "    <tr>\n",
       "      <th>4</th>\n",
       "      <td>Bantayan Island</td>\n",
       "    </tr>\n",
       "    <tr>\n",
       "      <th>5</th>\n",
       "      <td>Bogo</td>\n",
       "    </tr>\n",
       "    <tr>\n",
       "      <th>6</th>\n",
       "      <td>Borbon</td>\n",
       "    </tr>\n",
       "    <tr>\n",
       "      <th>7</th>\n",
       "      <td>Camotes Island</td>\n",
       "    </tr>\n",
       "    <tr>\n",
       "      <th>8</th>\n",
       "      <td>Carcar</td>\n",
       "    </tr>\n",
       "    <tr>\n",
       "      <th>9</th>\n",
       "      <td>Carmen</td>\n",
       "    </tr>\n",
       "    <tr>\n",
       "      <th>10</th>\n",
       "      <td>Catmon</td>\n",
       "    </tr>\n",
       "    <tr>\n",
       "      <th>11</th>\n",
       "      <td>Cebu</td>\n",
       "    </tr>\n",
       "    <tr>\n",
       "      <th>12</th>\n",
       "      <td>Compostela</td>\n",
       "    </tr>\n",
       "    <tr>\n",
       "      <th>13</th>\n",
       "      <td>Consolacion</td>\n",
       "    </tr>\n",
       "    <tr>\n",
       "      <th>14</th>\n",
       "      <td>Danao</td>\n",
       "    </tr>\n",
       "    <tr>\n",
       "      <th>15</th>\n",
       "      <td>Lapu-Lapu</td>\n",
       "    </tr>\n",
       "    <tr>\n",
       "      <th>16</th>\n",
       "      <td>Liloan</td>\n",
       "    </tr>\n",
       "    <tr>\n",
       "      <th>17</th>\n",
       "      <td>Mandaue</td>\n",
       "    </tr>\n",
       "    <tr>\n",
       "      <th>18</th>\n",
       "      <td>Medellin</td>\n",
       "    </tr>\n",
       "    <tr>\n",
       "      <th>19</th>\n",
       "      <td>Minglanilla</td>\n",
       "    </tr>\n",
       "    <tr>\n",
       "      <th>20</th>\n",
       "      <td>Naga</td>\n",
       "    </tr>\n",
       "    <tr>\n",
       "      <th>21</th>\n",
       "      <td>Oslob</td>\n",
       "    </tr>\n",
       "    <tr>\n",
       "      <th>22</th>\n",
       "      <td>San Remigio</td>\n",
       "    </tr>\n",
       "    <tr>\n",
       "      <th>23</th>\n",
       "      <td>Santander</td>\n",
       "    </tr>\n",
       "    <tr>\n",
       "      <th>24</th>\n",
       "      <td>Talamban</td>\n",
       "    </tr>\n",
       "    <tr>\n",
       "      <th>25</th>\n",
       "      <td>Talisay</td>\n",
       "    </tr>\n",
       "    <tr>\n",
       "      <th>26</th>\n",
       "      <td>Toledo</td>\n",
       "    </tr>\n",
       "  </tbody>\n",
       "</table>\n",
       "</div>"
      ],
      "text/plain": [
       "           location\n",
       "0             Alcoy\n",
       "1             Argao\n",
       "2            Badian\n",
       "3          Balamban\n",
       "4   Bantayan Island\n",
       "5              Bogo\n",
       "6            Borbon\n",
       "7    Camotes Island\n",
       "8            Carcar\n",
       "9            Carmen\n",
       "10           Catmon\n",
       "11             Cebu\n",
       "12       Compostela\n",
       "13      Consolacion\n",
       "14            Danao\n",
       "15        Lapu-Lapu\n",
       "16           Liloan\n",
       "17          Mandaue\n",
       "18         Medellin\n",
       "19      Minglanilla\n",
       "20             Naga\n",
       "21            Oslob\n",
       "22      San Remigio\n",
       "23        Santander\n",
       "24         Talamban\n",
       "25          Talisay\n",
       "26           Toledo"
      ]
     },
     "metadata": {},
     "output_type": "display_data"
    }
   ],
   "source": [
    "displayList(data.location.unique(), 'location')"
   ]
  },
  {
   "cell_type": "code",
   "execution_count": 28,
   "metadata": {
    "scrolled": false
   },
   "outputs": [
    {
     "data": {
      "text/plain": [
       "array([[<AxesSubplot:title={'center':'location'}>]], dtype=object)"
      ]
     },
     "execution_count": 28,
     "metadata": {},
     "output_type": "execute_result"
    },
    {
     "data": {
      "image/png": "[encoded data removed]",
      "text/plain": [
       "<Figure size 432x288 with 1 Axes>"
      ]
     },
     "metadata": {
      "needs_background": "light"
     },
     "output_type": "display_data"
    }
   ],
   "source": [
    "data = labelEncode(data, 'location')\n",
    "data.hist(column='location', bins = 26)"
   ]
  },
  {
   "cell_type": "markdown",
   "metadata": {},
   "source": [
    "In the histogram above it can be seen that there are more house sales in Cebu, followed by Lapu-Lapu, and Talisay."
   ]
  },
  {
   "cell_type": "markdown",
   "metadata": {},
   "source": [
    "### Removing multicollinearity"
   ]
  },
  {
   "cell_type": "code",
   "execution_count": 29,
   "metadata": {},
   "outputs": [
    {
     "data": {
      "image/png": "[encoded data removed]",
      "text/plain": [
       "<Figure size 432x288 with 2 Axes>"
      ]
     },
     "metadata": {
      "needs_background": "light"
     },
     "output_type": "display_data"
    }
   ],
   "source": [
    "data = displayHeatMap(data)"
   ]
  },
  {
   "cell_type": "code",
   "execution_count": 30,
   "metadata": {},
   "outputs": [
    {
     "name": "stdout",
     "output_type": "stream",
     "text": [
      "Current VFI\n"
     ]
    },
    {
     "data": {
      "text/plain": [
       "const         16.670943\n",
       "carspaces      1.419796\n",
       "bedrooms       1.491787\n",
       "bathrooms      1.675646\n",
       "floorarea      2.890105\n",
       "landsize       1.130949\n",
       "waterfront     1.059106\n",
       "location       1.048262\n",
       "price          2.572541\n",
       "dtype: float64"
      ]
     },
     "metadata": {},
     "output_type": "display_data"
    }
   ],
   "source": [
    "displayVFI(data)"
   ]
  },
  {
   "cell_type": "code",
   "execution_count": 31,
   "metadata": {},
   "outputs": [
    {
     "data": {
      "text/html": [
       "<div>\n",
       "<style scoped>\n",
       "    .dataframe tbody tr th:only-of-type {\n",
       "        vertical-align: middle;\n",
       "    }\n",
       "\n",
       "    .dataframe tbody tr th {\n",
       "        vertical-align: top;\n",
       "    }\n",
       "\n",
       "    .dataframe thead th {\n",
       "        text-align: right;\n",
       "    }\n",
       "</style>\n",
       "<table border=\"1\" class=\"dataframe\">\n",
       "  <thead>\n",
       "    <tr style=\"text-align: right;\">\n",
       "      <th></th>\n",
       "      <th>carspaces</th>\n",
       "      <th>bedrooms</th>\n",
       "      <th>bathrooms</th>\n",
       "      <th>floorarea</th>\n",
       "      <th>landsize</th>\n",
       "      <th>waterfront</th>\n",
       "      <th>location</th>\n",
       "      <th>price</th>\n",
       "    </tr>\n",
       "  </thead>\n",
       "  <tbody>\n",
       "    <tr>\n",
       "      <th>count</th>\n",
       "      <td>364.000000</td>\n",
       "      <td>364.000000</td>\n",
       "      <td>364.000000</td>\n",
       "      <td>364.000000</td>\n",
       "      <td>364.000000</td>\n",
       "      <td>364.000000</td>\n",
       "      <td>364.000000</td>\n",
       "      <td>3.640000e+02</td>\n",
       "    </tr>\n",
       "    <tr>\n",
       "      <th>mean</th>\n",
       "      <td>1.944058</td>\n",
       "      <td>3.908689</td>\n",
       "      <td>3.498463</td>\n",
       "      <td>218.384537</td>\n",
       "      <td>334.932195</td>\n",
       "      <td>0.214286</td>\n",
       "      <td>14.326923</td>\n",
       "      <td>1.451708e+07</td>\n",
       "    </tr>\n",
       "    <tr>\n",
       "      <th>std</th>\n",
       "      <td>1.062035</td>\n",
       "      <td>1.880737</td>\n",
       "      <td>7.404907</td>\n",
       "      <td>221.151053</td>\n",
       "      <td>753.438095</td>\n",
       "      <td>0.410891</td>\n",
       "      <td>5.166670</td>\n",
       "      <td>2.026973e+07</td>\n",
       "    </tr>\n",
       "    <tr>\n",
       "      <th>min</th>\n",
       "      <td>0.000000</td>\n",
       "      <td>1.000000</td>\n",
       "      <td>1.000000</td>\n",
       "      <td>2.000000</td>\n",
       "      <td>35.000000</td>\n",
       "      <td>0.000000</td>\n",
       "      <td>0.000000</td>\n",
       "      <td>5.000000e+04</td>\n",
       "    </tr>\n",
       "    <tr>\n",
       "      <th>25%</th>\n",
       "      <td>1.000000</td>\n",
       "      <td>3.000000</td>\n",
       "      <td>2.000000</td>\n",
       "      <td>85.000000</td>\n",
       "      <td>91.500000</td>\n",
       "      <td>0.000000</td>\n",
       "      <td>11.000000</td>\n",
       "      <td>4.482500e+06</td>\n",
       "    </tr>\n",
       "    <tr>\n",
       "      <th>50%</th>\n",
       "      <td>1.931452</td>\n",
       "      <td>4.000000</td>\n",
       "      <td>3.000000</td>\n",
       "      <td>145.500000</td>\n",
       "      <td>156.000000</td>\n",
       "      <td>0.000000</td>\n",
       "      <td>15.000000</td>\n",
       "      <td>8.000000e+06</td>\n",
       "    </tr>\n",
       "    <tr>\n",
       "      <th>75%</th>\n",
       "      <td>2.000000</td>\n",
       "      <td>4.000000</td>\n",
       "      <td>4.000000</td>\n",
       "      <td>270.500000</td>\n",
       "      <td>307.000000</td>\n",
       "      <td>0.000000</td>\n",
       "      <td>16.000000</td>\n",
       "      <td>1.650800e+07</td>\n",
       "    </tr>\n",
       "    <tr>\n",
       "      <th>max</th>\n",
       "      <td>8.000000</td>\n",
       "      <td>18.000000</td>\n",
       "      <td>141.000000</td>\n",
       "      <td>2100.000000</td>\n",
       "      <td>10000.000000</td>\n",
       "      <td>1.000000</td>\n",
       "      <td>26.000000</td>\n",
       "      <td>2.000000e+08</td>\n",
       "    </tr>\n",
       "    <tr>\n",
       "      <th>+3_std</th>\n",
       "      <td>5.130162</td>\n",
       "      <td>9.550900</td>\n",
       "      <td>25.713184</td>\n",
       "      <td>881.837695</td>\n",
       "      <td>2595.246479</td>\n",
       "      <td>1.446958</td>\n",
       "      <td>29.826933</td>\n",
       "      <td>7.532627e+07</td>\n",
       "    </tr>\n",
       "    <tr>\n",
       "      <th>-3_std</th>\n",
       "      <td>-1.242046</td>\n",
       "      <td>-1.733522</td>\n",
       "      <td>-18.716257</td>\n",
       "      <td>-445.068620</td>\n",
       "      <td>-1925.382090</td>\n",
       "      <td>-1.018386</td>\n",
       "      <td>-1.173087</td>\n",
       "      <td>-4.629211e+07</td>\n",
       "    </tr>\n",
       "  </tbody>\n",
       "</table>\n",
       "</div>"
      ],
      "text/plain": [
       "         carspaces    bedrooms   bathrooms    floorarea      landsize  \\\n",
       "count   364.000000  364.000000  364.000000   364.000000    364.000000   \n",
       "mean      1.944058    3.908689    3.498463   218.384537    334.932195   \n",
       "std       1.062035    1.880737    7.404907   221.151053    753.438095   \n",
       "min       0.000000    1.000000    1.000000     2.000000     35.000000   \n",
       "25%       1.000000    3.000000    2.000000    85.000000     91.500000   \n",
       "50%       1.931452    4.000000    3.000000   145.500000    156.000000   \n",
       "75%       2.000000    4.000000    4.000000   270.500000    307.000000   \n",
       "max       8.000000   18.000000  141.000000  2100.000000  10000.000000   \n",
       "+3_std    5.130162    9.550900   25.713184   881.837695   2595.246479   \n",
       "-3_std   -1.242046   -1.733522  -18.716257  -445.068620  -1925.382090   \n",
       "\n",
       "        waterfront    location         price  \n",
       "count   364.000000  364.000000  3.640000e+02  \n",
       "mean      0.214286   14.326923  1.451708e+07  \n",
       "std       0.410891    5.166670  2.026973e+07  \n",
       "min       0.000000    0.000000  5.000000e+04  \n",
       "25%       0.000000   11.000000  4.482500e+06  \n",
       "50%       0.000000   15.000000  8.000000e+06  \n",
       "75%       0.000000   16.000000  1.650800e+07  \n",
       "max       1.000000   26.000000  2.000000e+08  \n",
       "+3_std    1.446958   29.826933  7.532627e+07  \n",
       "-3_std   -1.018386   -1.173087 -4.629211e+07  "
      ]
     },
     "metadata": {},
     "output_type": "display_data"
    }
   ],
   "source": [
    "displayDescribe(data)"
   ]
  },
  {
   "cell_type": "code",
   "execution_count": 32,
   "metadata": {},
   "outputs": [
    {
     "name": "stdout",
     "output_type": "stream",
     "text": [
      "Number of outliers found:  29\n"
     ]
    },
    {
     "data": {
      "text/html": [
       "<div>\n",
       "<style scoped>\n",
       "    .dataframe tbody tr th:only-of-type {\n",
       "        vertical-align: middle;\n",
       "    }\n",
       "\n",
       "    .dataframe tbody tr th {\n",
       "        vertical-align: top;\n",
       "    }\n",
       "\n",
       "    .dataframe thead th {\n",
       "        text-align: right;\n",
       "    }\n",
       "</style>\n",
       "<table border=\"1\" class=\"dataframe\">\n",
       "  <thead>\n",
       "    <tr style=\"text-align: right;\">\n",
       "      <th></th>\n",
       "      <th>carspaces</th>\n",
       "      <th>bedrooms</th>\n",
       "      <th>bathrooms</th>\n",
       "      <th>floorarea</th>\n",
       "      <th>landsize</th>\n",
       "      <th>waterfront</th>\n",
       "      <th>location</th>\n",
       "      <th>price</th>\n",
       "    </tr>\n",
       "  </thead>\n",
       "  <tbody>\n",
       "    <tr>\n",
       "      <th>0</th>\n",
       "      <td>2.0</td>\n",
       "      <td>2.0</td>\n",
       "      <td>3.0</td>\n",
       "      <td>150.0</td>\n",
       "      <td>173.0</td>\n",
       "      <td>1.0</td>\n",
       "      <td>15.0</td>\n",
       "      <td>3800000.0</td>\n",
       "    </tr>\n",
       "    <tr>\n",
       "      <th>1</th>\n",
       "      <td>1.0</td>\n",
       "      <td>3.0</td>\n",
       "      <td>2.0</td>\n",
       "      <td>80.0</td>\n",
       "      <td>291.0</td>\n",
       "      <td>1.0</td>\n",
       "      <td>1.0</td>\n",
       "      <td>7078000.0</td>\n",
       "    </tr>\n",
       "    <tr>\n",
       "      <th>2</th>\n",
       "      <td>5.0</td>\n",
       "      <td>3.0</td>\n",
       "      <td>2.0</td>\n",
       "      <td>385.4</td>\n",
       "      <td>1500.0</td>\n",
       "      <td>1.0</td>\n",
       "      <td>7.0</td>\n",
       "      <td>11900000.0</td>\n",
       "    </tr>\n",
       "    <tr>\n",
       "      <th>3</th>\n",
       "      <td>4.0</td>\n",
       "      <td>5.0</td>\n",
       "      <td>5.0</td>\n",
       "      <td>360.0</td>\n",
       "      <td>462.0</td>\n",
       "      <td>0.0</td>\n",
       "      <td>15.0</td>\n",
       "      <td>52000000.0</td>\n",
       "    </tr>\n",
       "    <tr>\n",
       "      <th>4</th>\n",
       "      <td>1.0</td>\n",
       "      <td>4.0</td>\n",
       "      <td>3.0</td>\n",
       "      <td>103.0</td>\n",
       "      <td>60.0</td>\n",
       "      <td>0.0</td>\n",
       "      <td>17.0</td>\n",
       "      <td>10500000.0</td>\n",
       "    </tr>\n",
       "    <tr>\n",
       "      <th>...</th>\n",
       "      <td>...</td>\n",
       "      <td>...</td>\n",
       "      <td>...</td>\n",
       "      <td>...</td>\n",
       "      <td>...</td>\n",
       "      <td>...</td>\n",
       "      <td>...</td>\n",
       "      <td>...</td>\n",
       "    </tr>\n",
       "    <tr>\n",
       "      <th>396</th>\n",
       "      <td>1.0</td>\n",
       "      <td>1.0</td>\n",
       "      <td>1.0</td>\n",
       "      <td>26.0</td>\n",
       "      <td>48.0</td>\n",
       "      <td>0.0</td>\n",
       "      <td>3.0</td>\n",
       "      <td>619682.0</td>\n",
       "    </tr>\n",
       "    <tr>\n",
       "      <th>398</th>\n",
       "      <td>1.0</td>\n",
       "      <td>4.0</td>\n",
       "      <td>3.0</td>\n",
       "      <td>284.0</td>\n",
       "      <td>103.0</td>\n",
       "      <td>1.0</td>\n",
       "      <td>19.0</td>\n",
       "      <td>5242410.0</td>\n",
       "    </tr>\n",
       "    <tr>\n",
       "      <th>400</th>\n",
       "      <td>1.0</td>\n",
       "      <td>4.0</td>\n",
       "      <td>2.0</td>\n",
       "      <td>114.0</td>\n",
       "      <td>72.0</td>\n",
       "      <td>1.0</td>\n",
       "      <td>11.0</td>\n",
       "      <td>5500000.0</td>\n",
       "    </tr>\n",
       "    <tr>\n",
       "      <th>401</th>\n",
       "      <td>1.0</td>\n",
       "      <td>2.0</td>\n",
       "      <td>2.0</td>\n",
       "      <td>36.0</td>\n",
       "      <td>42.0</td>\n",
       "      <td>1.0</td>\n",
       "      <td>8.0</td>\n",
       "      <td>1350000.0</td>\n",
       "    </tr>\n",
       "    <tr>\n",
       "      <th>402</th>\n",
       "      <td>3.0</td>\n",
       "      <td>4.0</td>\n",
       "      <td>4.0</td>\n",
       "      <td>376.0</td>\n",
       "      <td>237.0</td>\n",
       "      <td>0.0</td>\n",
       "      <td>11.0</td>\n",
       "      <td>28000000.0</td>\n",
       "    </tr>\n",
       "  </tbody>\n",
       "</table>\n",
       "<p>335 rows × 8 columns</p>\n",
       "</div>"
      ],
      "text/plain": [
       "     carspaces  bedrooms  bathrooms  floorarea  landsize  waterfront  \\\n",
       "0          2.0       2.0        3.0      150.0     173.0         1.0   \n",
       "1          1.0       3.0        2.0       80.0     291.0         1.0   \n",
       "2          5.0       3.0        2.0      385.4    1500.0         1.0   \n",
       "3          4.0       5.0        5.0      360.0     462.0         0.0   \n",
       "4          1.0       4.0        3.0      103.0      60.0         0.0   \n",
       "..         ...       ...        ...        ...       ...         ...   \n",
       "396        1.0       1.0        1.0       26.0      48.0         0.0   \n",
       "398        1.0       4.0        3.0      284.0     103.0         1.0   \n",
       "400        1.0       4.0        2.0      114.0      72.0         1.0   \n",
       "401        1.0       2.0        2.0       36.0      42.0         1.0   \n",
       "402        3.0       4.0        4.0      376.0     237.0         0.0   \n",
       "\n",
       "     location       price  \n",
       "0        15.0   3800000.0  \n",
       "1         1.0   7078000.0  \n",
       "2         7.0  11900000.0  \n",
       "3        15.0  52000000.0  \n",
       "4        17.0  10500000.0  \n",
       "..        ...         ...  \n",
       "396       3.0    619682.0  \n",
       "398      19.0   5242410.0  \n",
       "400      11.0   5500000.0  \n",
       "401       8.0   1350000.0  \n",
       "402      11.0  28000000.0  \n",
       "\n",
       "[335 rows x 8 columns]"
      ]
     },
     "metadata": {},
     "output_type": "display_data"
    }
   ],
   "source": [
    "data = removeOutliers(data)"
   ]
  },
  {
   "cell_type": "markdown",
   "metadata": {},
   "source": [
    "### Training Models"
   ]
  },
  {
   "cell_type": "code",
   "execution_count": 33,
   "metadata": {},
   "outputs": [],
   "source": [
    "# instantiate models\n",
    "modelLR = LinearRegression()\n",
    "modelRF = RandomForestRegressor()\n",
    "modelDT = DecisionTreeRegressor()"
   ]
  },
  {
   "cell_type": "code",
   "execution_count": 34,
   "metadata": {},
   "outputs": [],
   "source": [
    "X = data.iloc[ : , 0:7]\n",
    "Y = data.iloc[ : , 7]\n",
    "\n",
    "X_train, X_test, Y_train, Y_test = train_test_split(X, Y, test_size=0.20, random_state=32)"
   ]
  },
  {
   "cell_type": "code",
   "execution_count": 35,
   "metadata": {},
   "outputs": [
    {
     "data": {
      "text/plain": [
       "DecisionTreeRegressor()"
      ]
     },
     "execution_count": 35,
     "metadata": {},
     "output_type": "execute_result"
    }
   ],
   "source": [
    "modelLR.fit(X_train, Y_train)\n",
    "modelRF.fit(X_train, Y_train)\n",
    "modelDT.fit(X_train, Y_train)"
   ]
  },
  {
   "cell_type": "code",
   "execution_count": 36,
   "metadata": {},
   "outputs": [
    {
     "name": "stdout",
     "output_type": "stream",
     "text": [
      "Linear Regression Model\n",
      "Train R-Squared:  0.6533695776517655\n",
      "Test R-Squared:  0.6974979756711714\n",
      "\n",
      "Random Forest Regression Model\n",
      "Train R-Squared:  0.9545565516168022\n",
      "Test R-Squared:  0.8184275792602811\n",
      "\n",
      "Decision Tree Regressor\n",
      "Train R-Squared:  0.9998929686719001\n",
      "Test R-Squared:  0.7239743471883608\n",
      "\n"
     ]
    }
   ],
   "source": [
    "getScore(\"Linear Regression Model\", modelLR)\n",
    "getScore(\"Random Forest Regression Model\", modelRF)\n",
    "getScore(\"Decision Tree Regressor\" ,modelDT)"
   ]
  },
  {
   "cell_type": "markdown",
   "metadata": {},
   "source": [
    "### Identifying Errors"
   ]
  },
  {
   "cell_type": "code",
   "execution_count": 37,
   "metadata": {},
   "outputs": [],
   "source": [
    "LRpred = modelLR.predict(X_test)\n",
    "RFpred = modelRF.predict(X_test)\n",
    "DTpred = modelDT.predict(X_test) "
   ]
  },
  {
   "cell_type": "code",
   "execution_count": 38,
   "metadata": {},
   "outputs": [
    {
     "name": "stdout",
     "output_type": "stream",
     "text": [
      "Linear Regression Model\n",
      "Mean Squared Error (MSE):  49047984422100.805\n",
      "Mean Absolute Error (MAE):  4356215.333848789\n",
      "Root Mean Squared Error (RMSE):  7003426.620026857\n",
      "\n",
      "Random Forest Regression Model\n",
      "Mean Squared Error (MSE):  29440336089268.76\n",
      "Mean Absolute Error (MAE):  3141906.426012793\n",
      "Root Mean Squared Error (RMSE):  5425894.957448841\n",
      "\n",
      "Decision Tree Regressor\n",
      "Mean Squared Error (MSE):  44755078744493.734\n",
      "Mean Absolute Error (MAE):  3856405.582089552\n",
      "Root Mean Squared Error (RMSE):  6689923.672546177\n",
      "\n"
     ]
    }
   ],
   "source": [
    "getErrors(\"Linear Regression Model\", LRpred)\n",
    "getErrors(\"Random Forest Regression Model\", RFpred)\n",
    "getErrors(\"Decision Tree Regressor\", DTpred)"
   ]
  },
  {
   "cell_type": "markdown",
   "metadata": {},
   "source": [
    "### Determine Intercept and Coefficients"
   ]
  },
  {
   "cell_type": "code",
   "execution_count": 39,
   "metadata": {},
   "outputs": [
    {
     "name": "stdout",
     "output_type": "stream",
     "text": [
      "\n",
      " The intercept for our model is -4.848e+06\n"
     ]
    },
    {
     "data": {
      "text/html": [
       "<div>\n",
       "<style scoped>\n",
       "    .dataframe tbody tr th:only-of-type {\n",
       "        vertical-align: middle;\n",
       "    }\n",
       "\n",
       "    .dataframe tbody tr th {\n",
       "        vertical-align: top;\n",
       "    }\n",
       "\n",
       "    .dataframe thead th {\n",
       "        text-align: right;\n",
       "    }\n",
       "</style>\n",
       "<table border=\"1\" class=\"dataframe\">\n",
       "  <thead>\n",
       "    <tr style=\"text-align: right;\">\n",
       "      <th></th>\n",
       "      <th>Coefficients</th>\n",
       "    </tr>\n",
       "  </thead>\n",
       "  <tbody>\n",
       "    <tr>\n",
       "      <th>carspaces</th>\n",
       "      <td>1.216281e+06</td>\n",
       "    </tr>\n",
       "    <tr>\n",
       "      <th>bedrooms</th>\n",
       "      <td>-3.624131e+05</td>\n",
       "    </tr>\n",
       "    <tr>\n",
       "      <th>bathrooms</th>\n",
       "      <td>3.170960e+06</td>\n",
       "    </tr>\n",
       "    <tr>\n",
       "      <th>floorarea</th>\n",
       "      <td>2.902430e+04</td>\n",
       "    </tr>\n",
       "    <tr>\n",
       "      <th>landsize</th>\n",
       "      <td>3.661332e+03</td>\n",
       "    </tr>\n",
       "    <tr>\n",
       "      <th>waterfront</th>\n",
       "      <td>1.507583e+06</td>\n",
       "    </tr>\n",
       "    <tr>\n",
       "      <th>location</th>\n",
       "      <td>-6.323934e+04</td>\n",
       "    </tr>\n",
       "  </tbody>\n",
       "</table>\n",
       "</div>"
      ],
      "text/plain": [
       "            Coefficients\n",
       "carspaces   1.216281e+06\n",
       "bedrooms   -3.624131e+05\n",
       "bathrooms   3.170960e+06\n",
       "floorarea   2.902430e+04\n",
       "landsize    3.661332e+03\n",
       "waterfront  1.507583e+06\n",
       "location   -6.323934e+04"
      ]
     },
     "metadata": {},
     "output_type": "display_data"
    }
   ],
   "source": [
    "getInterceptCoeff(modelLR)"
   ]
  },
  {
   "cell_type": "code",
   "execution_count": 40,
   "metadata": {},
   "outputs": [],
   "source": [
    "# define our input\n",
    "X2 = sm.add_constant(X)\n",
    "\n",
    "# create a OLS model\n",
    "model = sm.OLS(Y, X2)\n",
    "\n",
    "# fit the data\n",
    "est = model.fit()"
   ]
  },
  {
   "cell_type": "markdown",
   "metadata": {},
   "source": [
    "Bottom line: a negative R2 is not a mathematical impossibility or the sign of a computer bug. It simply means that the chosen model (with its constraints) fits the data really poorly."
   ]
  },
  {
   "cell_type": "markdown",
   "metadata": {},
   "source": [
    "### Test for Heterosecdasticity"
   ]
  },
  {
   "cell_type": "code",
   "execution_count": 41,
   "metadata": {},
   "outputs": [
    {
     "name": "stdout",
     "output_type": "stream",
     "text": [
      "5.98908959607157e-15 4.388876615059462e-17\n",
      "----------------------------------------------------------------------------------------------------\n",
      "For the Breusch-Pagan's Test\n",
      "The p-value was 5.989e-15\n",
      "We reject the null hypothesis, so there is heterosecdasticity.\n"
     ]
    }
   ],
   "source": [
    "checkHeterosecdasticity(est)"
   ]
  },
  {
   "cell_type": "markdown",
   "metadata": {},
   "source": [
    "### Test for Autocorrelation"
   ]
  },
  {
   "cell_type": "code",
   "execution_count": 42,
   "metadata": {},
   "outputs": [
    {
     "name": "stdout",
     "output_type": "stream",
     "text": [
      "The number of lags will be 10\n",
      "----------------------------------------------------------------------------------------------------\n",
      "The lowest p-value found was 0.3167\n",
      "We fail to reject the null hypothesis, so there is no autocorrelation.\n",
      "----------------------------------------------------------------------------------------------------\n"
     ]
    },
    {
     "name": "stderr",
     "output_type": "stream",
     "text": [
      "D:\\Anaconda\\lib\\site-packages\\statsmodels\\stats\\diagnostic.py:559: FutureWarning: The value returned will change to a single DataFrame after 0.12 is released.  Set return_df to True to use to return a DataFrame now.  Set return_df to False to silence this warning.\n",
      "  warnings.warn(msg, FutureWarning)\n"
     ]
    },
    {
     "data": {
      "image/png": "[encoded data removed]",
      "text/plain": [
       "<Figure size 432x288 with 1 Axes>"
      ]
     },
     "metadata": {
      "needs_background": "light"
     },
     "output_type": "display_data"
    }
   ],
   "source": [
    "checkAutocorr(est, X)"
   ]
  },
  {
   "cell_type": "code",
   "execution_count": 43,
   "metadata": {},
   "outputs": [
    {
     "name": "stdout",
     "output_type": "stream",
     "text": [
      "Price for the first 5 predictions: \n",
      "10035800.401221685\n",
      "8680236.684682708\n",
      "11831963.560287464\n",
      "2475086.1498002587\n",
      "6999488.311756825\n"
     ]
    }
   ],
   "source": [
    "getPredict(modelLR, X_test)"
   ]
  },
  {
   "cell_type": "code",
   "execution_count": 44,
   "metadata": {},
   "outputs": [
    {
     "data": {
      "text/plain": [
       "const         1.812725e-02\n",
       "carspaces     6.701225e-02\n",
       "bedrooms      5.517810e-01\n",
       "bathrooms     1.783837e-08\n",
       "floorarea     2.261473e-18\n",
       "landsize      3.141364e-02\n",
       "waterfront    1.695132e-01\n",
       "location      1.716978e-01\n",
       "dtype: float64"
      ]
     },
     "execution_count": 44,
     "metadata": {},
     "output_type": "execute_result"
    }
   ],
   "source": [
    "est.pvalues"
   ]
  },
  {
   "cell_type": "code",
   "execution_count": 45,
   "metadata": {},
   "outputs": [],
   "source": [
    "# define our input\n",
    "X2 = sm.add_constant(X)\n",
    "X2 = X2.drop(['carspaces', 'bedrooms', 'waterfront', 'location'], axis = 1)\n",
    "\n",
    "# create a OLS model\n",
    "model = sm.OLS(Y, X2)\n",
    "\n",
    "# fit the data\n",
    "est = model.fit()"
   ]
  },
  {
   "cell_type": "code",
   "execution_count": 46,
   "metadata": {},
   "outputs": [
    {
     "data": {
      "text/plain": [
       "const        1.772250e-06\n",
       "bathrooms    1.308877e-11\n",
       "floorarea    8.751757e-20\n",
       "landsize     6.467499e-03\n",
       "dtype: float64"
      ]
     },
     "execution_count": 46,
     "metadata": {},
     "output_type": "execute_result"
    }
   ],
   "source": [
    "est.pvalues"
   ]
  },
  {
   "cell_type": "code",
   "execution_count": 47,
   "metadata": {},
   "outputs": [
    {
     "name": "stdout",
     "output_type": "stream",
     "text": [
      "                            OLS Regression Results                            \n",
      "==============================================================================\n",
      "Dep. Variable:                  price   R-squared:                       0.663\n",
      "Model:                            OLS   Adj. R-squared:                  0.660\n",
      "Method:                 Least Squares   F-statistic:                     216.7\n",
      "Date:                Wed, 24 Mar 2021   Prob (F-statistic):           9.44e-78\n",
      "Time:                        12:48:20   Log-Likelihood:                -5734.9\n",
      "No. Observations:                 335   AIC:                         1.148e+04\n",
      "Df Residuals:                     331   BIC:                         1.149e+04\n",
      "Df Model:                           3                                         \n",
      "Covariance Type:            nonrobust                                         \n",
      "==============================================================================\n",
      "                 coef    std err          t      P>|t|      [0.025      0.975]\n",
      "------------------------------------------------------------------------------\n",
      "const      -4.473e+06   9.19e+05     -4.865      0.000   -6.28e+06   -2.66e+06\n",
      "bathrooms    2.82e+06   4.02e+05      7.014      0.000    2.03e+06    3.61e+06\n",
      "floorarea   3.586e+04   3692.446      9.712      0.000    2.86e+04    4.31e+04\n",
      "landsize    4320.9739   1576.711      2.740      0.006    1219.336    7422.612\n",
      "==============================================================================\n",
      "Omnibus:                      146.821   Durbin-Watson:                   1.868\n",
      "Prob(Omnibus):                  0.000   Jarque-Bera (JB):              978.997\n",
      "Skew:                           1.689   Prob(JB):                    2.59e-213\n",
      "Kurtosis:                      10.663   Cond. No.                     1.04e+03\n",
      "==============================================================================\n",
      "\n",
      "Notes:\n",
      "[1] Standard Errors assume that the covariance matrix of the errors is correctly specified.\n",
      "[2] The condition number is large, 1.04e+03. This might indicate that there are\n",
      "strong multicollinearity or other numerical problems.\n"
     ]
    }
   ],
   "source": [
    "print(est.summary())"
   ]
  },
  {
   "cell_type": "markdown",
   "metadata": {},
   "source": [
    "# KMeans Clustering "
   ]
  },
  {
   "cell_type": "code",
   "execution_count": 62,
   "metadata": {},
   "outputs": [
    {
     "data": {
      "text/plain": [
       "KMeans()"
      ]
     },
     "execution_count": 62,
     "metadata": {},
     "output_type": "execute_result"
    }
   ],
   "source": [
    "kmeans = KMeans(n_clusters=8)\n",
    "kmeans"
   ]
  },
  {
   "cell_type": "code",
   "execution_count": 63,
   "metadata": {},
   "outputs": [
    {
     "data": {
      "text/plain": [
       "KMeans()"
      ]
     },
     "execution_count": 63,
     "metadata": {},
     "output_type": "execute_result"
    }
   ],
   "source": [
    "kmeans.fit(X_train, Y_train)"
   ]
  },
  {
   "cell_type": "code",
   "execution_count": 64,
   "metadata": {},
   "outputs": [
    {
     "data": {
      "text/plain": [
       "array([2, 5, 0, 6, 0, 2, 5, 2, 2, 2, 0, 4, 2, 7, 5, 5, 5, 2, 5, 2, 5, 5,\n",
       "       0, 2, 2, 6, 4, 5, 5, 0, 5, 4, 5, 2, 2, 2, 2, 2, 2, 0, 2, 7, 5, 2,\n",
       "       2, 2, 2, 4, 5, 7, 4, 7, 5, 0, 4, 2, 4, 5, 5, 7, 2, 2, 5, 1, 0, 5,\n",
       "       5, 5, 0, 5, 0, 2, 2, 0, 2, 2, 5, 5, 2, 7, 0, 2, 2, 5, 2, 2, 5, 5,\n",
       "       5, 5, 5, 5, 5, 1, 2, 2, 2, 5, 5, 1, 5, 2, 2, 2, 5, 5, 5, 0, 5, 2,\n",
       "       5, 5, 2, 2, 0, 2, 5, 7, 6, 5, 1, 0, 4, 7, 7, 5, 7, 0, 1, 0, 0, 0,\n",
       "       5, 0, 5, 1, 5, 2, 5, 0, 5, 5, 2, 4, 0, 2, 2, 2, 2, 2, 5, 4, 5, 2,\n",
       "       2, 2, 2, 2, 2, 1, 4, 5, 2, 4, 5, 5, 2, 6, 7, 0, 2, 1, 5, 2, 7, 2,\n",
       "       2, 2, 5, 5, 2, 4, 2, 5, 5, 5, 5, 0, 2, 5, 4, 0, 5, 2, 6, 5, 2, 2,\n",
       "       5, 7, 5, 4, 2, 4, 2, 7, 2, 5, 5, 3, 5, 2, 0, 7, 4, 2, 3, 5, 0, 1,\n",
       "       2, 1, 0, 5, 5, 0, 5, 2, 0, 5, 2, 2, 2, 1, 2, 4, 7, 5, 0, 5, 0, 4,\n",
       "       4, 6, 5, 5, 3, 7, 5, 4, 2, 4, 0, 5, 2, 0, 7, 5, 4, 5, 5, 5, 7, 5,\n",
       "       0, 5, 0, 2, 2, 0, 1, 0, 6, 0, 2, 5, 5, 1, 2, 0, 7, 5, 0, 5, 5, 5,\n",
       "       0, 6, 6, 0, 5, 7, 2, 2, 2, 2, 2, 2, 2, 0, 2, 5, 2, 0, 5, 4, 2, 2,\n",
       "       5, 2, 2, 2, 2, 5, 2, 0, 2, 5, 2, 5, 2, 2, 2, 2, 5, 2, 2, 2, 2, 5,\n",
       "       2, 2, 5, 2, 4])"
      ]
     },
     "execution_count": 64,
     "metadata": {},
     "output_type": "execute_result"
    }
   ],
   "source": [
    "Y_predicted = kmeans.fit_predict(data[['price','carspaces','bedrooms','bathrooms','floorarea','landsize','waterfront','location']])\n",
    "Y_predicted"
   ]
  },
  {
   "cell_type": "code",
   "execution_count": 65,
   "metadata": {},
   "outputs": [
    {
     "data": {
      "text/html": [
       "<div>\n",
       "<style scoped>\n",
       "    .dataframe tbody tr th:only-of-type {\n",
       "        vertical-align: middle;\n",
       "    }\n",
       "\n",
       "    .dataframe tbody tr th {\n",
       "        vertical-align: top;\n",
       "    }\n",
       "\n",
       "    .dataframe thead th {\n",
       "        text-align: right;\n",
       "    }\n",
       "</style>\n",
       "<table border=\"1\" class=\"dataframe\">\n",
       "  <thead>\n",
       "    <tr style=\"text-align: right;\">\n",
       "      <th></th>\n",
       "      <th>carspaces</th>\n",
       "      <th>bedrooms</th>\n",
       "      <th>bathrooms</th>\n",
       "      <th>floorarea</th>\n",
       "      <th>landsize</th>\n",
       "      <th>waterfront</th>\n",
       "      <th>location</th>\n",
       "      <th>price</th>\n",
       "      <th>Cluster</th>\n",
       "    </tr>\n",
       "  </thead>\n",
       "  <tbody>\n",
       "    <tr>\n",
       "      <th>0</th>\n",
       "      <td>2.0</td>\n",
       "      <td>2.0</td>\n",
       "      <td>3.0</td>\n",
       "      <td>150.0</td>\n",
       "      <td>173.0</td>\n",
       "      <td>1.0</td>\n",
       "      <td>15.0</td>\n",
       "      <td>3800000.0</td>\n",
       "      <td>2</td>\n",
       "    </tr>\n",
       "    <tr>\n",
       "      <th>1</th>\n",
       "      <td>1.0</td>\n",
       "      <td>3.0</td>\n",
       "      <td>2.0</td>\n",
       "      <td>80.0</td>\n",
       "      <td>291.0</td>\n",
       "      <td>1.0</td>\n",
       "      <td>1.0</td>\n",
       "      <td>7078000.0</td>\n",
       "      <td>5</td>\n",
       "    </tr>\n",
       "    <tr>\n",
       "      <th>2</th>\n",
       "      <td>5.0</td>\n",
       "      <td>3.0</td>\n",
       "      <td>2.0</td>\n",
       "      <td>385.4</td>\n",
       "      <td>1500.0</td>\n",
       "      <td>1.0</td>\n",
       "      <td>7.0</td>\n",
       "      <td>11900000.0</td>\n",
       "      <td>0</td>\n",
       "    </tr>\n",
       "    <tr>\n",
       "      <th>3</th>\n",
       "      <td>4.0</td>\n",
       "      <td>5.0</td>\n",
       "      <td>5.0</td>\n",
       "      <td>360.0</td>\n",
       "      <td>462.0</td>\n",
       "      <td>0.0</td>\n",
       "      <td>15.0</td>\n",
       "      <td>52000000.0</td>\n",
       "      <td>6</td>\n",
       "    </tr>\n",
       "    <tr>\n",
       "      <th>4</th>\n",
       "      <td>1.0</td>\n",
       "      <td>4.0</td>\n",
       "      <td>3.0</td>\n",
       "      <td>103.0</td>\n",
       "      <td>60.0</td>\n",
       "      <td>0.0</td>\n",
       "      <td>17.0</td>\n",
       "      <td>10500000.0</td>\n",
       "      <td>0</td>\n",
       "    </tr>\n",
       "  </tbody>\n",
       "</table>\n",
       "</div>"
      ],
      "text/plain": [
       "   carspaces  bedrooms  bathrooms  floorarea  landsize  waterfront  location  \\\n",
       "0        2.0       2.0        3.0      150.0     173.0         1.0      15.0   \n",
       "1        1.0       3.0        2.0       80.0     291.0         1.0       1.0   \n",
       "2        5.0       3.0        2.0      385.4    1500.0         1.0       7.0   \n",
       "3        4.0       5.0        5.0      360.0     462.0         0.0      15.0   \n",
       "4        1.0       4.0        3.0      103.0      60.0         0.0      17.0   \n",
       "\n",
       "        price  Cluster  \n",
       "0   3800000.0        2  \n",
       "1   7078000.0        5  \n",
       "2  11900000.0        0  \n",
       "3  52000000.0        6  \n",
       "4  10500000.0        0  "
      ]
     },
     "execution_count": 65,
     "metadata": {},
     "output_type": "execute_result"
    }
   ],
   "source": [
    "data['Cluster'] = Y_predicted\n",
    "data.head()"
   ]
  },
  {
   "cell_type": "code",
   "execution_count": 70,
   "metadata": {},
   "outputs": [
    {
     "name": "stderr",
     "output_type": "stream",
     "text": [
      "No handles with labels found to put in legend.\n"
     ]
    },
    {
     "data": {
      "text/plain": [
       "<matplotlib.legend.Legend at 0x258ddcda460>"
      ]
     },
     "execution_count": 70,
     "metadata": {},
     "output_type": "execute_result"
    },
    {
     "data": {
      "image/png": "[encoded data removed]",
      "text/plain": [
       "<Figure size 432x288 with 1 Axes>"
      ]
     },
     "metadata": {
      "needs_background": "light"
     },
     "output_type": "display_data"
    }
   ],
   "source": [
    "data1 = data[data.Cluster==0]\n",
    "data2 = data[data.Cluster==1]\n",
    "data3 = data[data.Cluster==2]\n",
    "data4 = data[data.Cluster==3]\n",
    "data5 = data[data.Cluster==4]\n",
    "data6 = data[data.Cluster==5]\n",
    "data7 = data[data.Cluster==6]\n",
    "data8 = data[data.Cluster==7]\n",
    "\n",
    "plt.scatter(data1.carspaces,data1['price'],color='red')\n",
    "plt.scatter(data2.bedrooms,data2['price'],color='green')\n",
    "plt.scatter(data3.bathrooms,data3['price'],color='blue')\n",
    "plt.scatter(data4.floorarea,data4['price'],color='yellow')\n",
    "plt.scatter(data5.landsize,data5['price'],color='black')\n",
    "plt.scatter(data6.waterfront,data6['price'],color='orange')\n",
    "plt.scatter(data7.location,data7['price'],color='brown')\n",
    "\n",
    "plt.ylabel('Price')\n",
    "plt.legend()\n",
    "\n"
   ]
  },
  {
   "cell_type": "markdown",
   "metadata": {},
   "source": [
    "### Conclusion\n",
    "\n",
    "In the accuracy of different models shown above, the random forest and decision tree models are overfitted. Thus, Linear Regression Model will be used but the accuracy is only 66%. And with the RMSE shown above there will be some errors  "
   ]
  },
  {
   "cell_type": "markdown",
   "metadata": {},
   "source": [
    "**Regression Equation:**\n",
    "\n",
    "Price = -4,641,000 + 2,933,000 (bathrooms) + 35,150 (floorarea) + 4339.4346 (landsize)"
   ]
  },
  {
   "cell_type": "markdown",
   "metadata": {},
   "source": [
    "Assuming a house for sale has 2 bathrooms, 51 sqm floor area, 98 sqm land size"
   ]
  },
  {
   "cell_type": "code",
   "execution_count": null,
   "metadata": {},
   "outputs": [],
   "source": [
    "price = -4473000 + 2820000*4 + 35860*143 + 4320.9739*98\n",
    "price"
   ]
  }
 ],
 "metadata": {
  "kernelspec": {
   "display_name": "Python 3",
   "language": "python",
   "name": "python3"
  },
  "language_info": {
   "codemirror_mode": {
    "name": "ipython",
    "version": 3
   },
   "file_extension": ".py",
   "mimetype": "text/x-python",
   "name": "python",
   "nbconvert_exporter": "python",
   "pygments_lexer": "ipython3",
   "version": "3.8.5"
  }
 },
 "nbformat": 4,
 "nbformat_minor": 5
}
